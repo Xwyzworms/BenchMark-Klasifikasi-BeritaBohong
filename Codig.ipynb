{
  "nbformat": 4,
  "nbformat_minor": 2,
  "metadata": {
    "colab": {
      "name": "Codig.ipynb",
      "provenance": [],
      "collapsed_sections": []
    },
    "kernelspec": {
      "name": "python3",
      "display_name": "Python 3"
    },
    "accelerator": "GPU",
    "widgets": {
      "application/vnd.jupyter.widget-state+json": {
        "e150d3c3e3174d0b83cd6ca8b5c4da8a": {
          "model_module": "@jupyter-widgets/controls",
          "model_name": "HBoxModel",
          "state": {
            "_view_name": "HBoxView",
            "_dom_classes": [],
            "_model_name": "HBoxModel",
            "_view_module": "@jupyter-widgets/controls",
            "_model_module_version": "1.5.0",
            "_view_count": null,
            "_view_module_version": "1.5.0",
            "box_style": "",
            "layout": "IPY_MODEL_b926ca17de88494da74d2a6d33cda0e8",
            "_model_module": "@jupyter-widgets/controls",
            "children": [
              "IPY_MODEL_5f3abbf076b5416d9966a4343b6a16ba",
              "IPY_MODEL_b12ab34167734261ba04b7d7a5e04dd9"
            ]
          }
        },
        "b926ca17de88494da74d2a6d33cda0e8": {
          "model_module": "@jupyter-widgets/base",
          "model_name": "LayoutModel",
          "state": {
            "_view_name": "LayoutView",
            "grid_template_rows": null,
            "right": null,
            "justify_content": null,
            "_view_module": "@jupyter-widgets/base",
            "overflow": null,
            "_model_module_version": "1.2.0",
            "_view_count": null,
            "flex_flow": null,
            "width": null,
            "min_width": null,
            "border": null,
            "align_items": null,
            "bottom": null,
            "_model_module": "@jupyter-widgets/base",
            "top": null,
            "grid_column": null,
            "overflow_y": null,
            "overflow_x": null,
            "grid_auto_flow": null,
            "grid_area": null,
            "grid_template_columns": null,
            "flex": null,
            "_model_name": "LayoutModel",
            "justify_items": null,
            "grid_row": null,
            "max_height": null,
            "align_content": null,
            "visibility": null,
            "align_self": null,
            "height": null,
            "min_height": null,
            "padding": null,
            "grid_auto_rows": null,
            "grid_gap": null,
            "max_width": null,
            "order": null,
            "_view_module_version": "1.2.0",
            "grid_template_areas": null,
            "object_position": null,
            "object_fit": null,
            "grid_auto_columns": null,
            "margin": null,
            "display": null,
            "left": null
          }
        },
        "5f3abbf076b5416d9966a4343b6a16ba": {
          "model_module": "@jupyter-widgets/controls",
          "model_name": "FloatProgressModel",
          "state": {
            "_view_name": "ProgressView",
            "style": "IPY_MODEL_74ad82fef92c4f77a90facffb75c9f38",
            "_dom_classes": [],
            "description": "Downloading: 100%",
            "_model_name": "FloatProgressModel",
            "bar_style": "success",
            "max": 1534,
            "_view_module": "@jupyter-widgets/controls",
            "_model_module_version": "1.5.0",
            "value": 1534,
            "_view_count": null,
            "_view_module_version": "1.5.0",
            "orientation": "horizontal",
            "min": 0,
            "description_tooltip": null,
            "_model_module": "@jupyter-widgets/controls",
            "layout": "IPY_MODEL_5680f0a021724be5afcc3b80402f3016"
          }
        },
        "b12ab34167734261ba04b7d7a5e04dd9": {
          "model_module": "@jupyter-widgets/controls",
          "model_name": "HTMLModel",
          "state": {
            "_view_name": "HTMLView",
            "style": "IPY_MODEL_d44a6c2dbda94ed7a337276baa12113d",
            "_dom_classes": [],
            "description": "",
            "_model_name": "HTMLModel",
            "placeholder": "​",
            "_view_module": "@jupyter-widgets/controls",
            "_model_module_version": "1.5.0",
            "value": " 1.53k/1.53k [00:00&lt;00:00, 52.0kB/s]",
            "_view_count": null,
            "_view_module_version": "1.5.0",
            "description_tooltip": null,
            "_model_module": "@jupyter-widgets/controls",
            "layout": "IPY_MODEL_76d11ea19b1a4e29ba7e7520b245df8b"
          }
        },
        "74ad82fef92c4f77a90facffb75c9f38": {
          "model_module": "@jupyter-widgets/controls",
          "model_name": "ProgressStyleModel",
          "state": {
            "_view_name": "StyleView",
            "_model_name": "ProgressStyleModel",
            "description_width": "initial",
            "_view_module": "@jupyter-widgets/base",
            "_model_module_version": "1.5.0",
            "_view_count": null,
            "_view_module_version": "1.2.0",
            "bar_color": null,
            "_model_module": "@jupyter-widgets/controls"
          }
        },
        "5680f0a021724be5afcc3b80402f3016": {
          "model_module": "@jupyter-widgets/base",
          "model_name": "LayoutModel",
          "state": {
            "_view_name": "LayoutView",
            "grid_template_rows": null,
            "right": null,
            "justify_content": null,
            "_view_module": "@jupyter-widgets/base",
            "overflow": null,
            "_model_module_version": "1.2.0",
            "_view_count": null,
            "flex_flow": null,
            "width": null,
            "min_width": null,
            "border": null,
            "align_items": null,
            "bottom": null,
            "_model_module": "@jupyter-widgets/base",
            "top": null,
            "grid_column": null,
            "overflow_y": null,
            "overflow_x": null,
            "grid_auto_flow": null,
            "grid_area": null,
            "grid_template_columns": null,
            "flex": null,
            "_model_name": "LayoutModel",
            "justify_items": null,
            "grid_row": null,
            "max_height": null,
            "align_content": null,
            "visibility": null,
            "align_self": null,
            "height": null,
            "min_height": null,
            "padding": null,
            "grid_auto_rows": null,
            "grid_gap": null,
            "max_width": null,
            "order": null,
            "_view_module_version": "1.2.0",
            "grid_template_areas": null,
            "object_position": null,
            "object_fit": null,
            "grid_auto_columns": null,
            "margin": null,
            "display": null,
            "left": null
          }
        },
        "d44a6c2dbda94ed7a337276baa12113d": {
          "model_module": "@jupyter-widgets/controls",
          "model_name": "DescriptionStyleModel",
          "state": {
            "_view_name": "StyleView",
            "_model_name": "DescriptionStyleModel",
            "description_width": "",
            "_view_module": "@jupyter-widgets/base",
            "_model_module_version": "1.5.0",
            "_view_count": null,
            "_view_module_version": "1.2.0",
            "_model_module": "@jupyter-widgets/controls"
          }
        },
        "76d11ea19b1a4e29ba7e7520b245df8b": {
          "model_module": "@jupyter-widgets/base",
          "model_name": "LayoutModel",
          "state": {
            "_view_name": "LayoutView",
            "grid_template_rows": null,
            "right": null,
            "justify_content": null,
            "_view_module": "@jupyter-widgets/base",
            "overflow": null,
            "_model_module_version": "1.2.0",
            "_view_count": null,
            "flex_flow": null,
            "width": null,
            "min_width": null,
            "border": null,
            "align_items": null,
            "bottom": null,
            "_model_module": "@jupyter-widgets/base",
            "top": null,
            "grid_column": null,
            "overflow_y": null,
            "overflow_x": null,
            "grid_auto_flow": null,
            "grid_area": null,
            "grid_template_columns": null,
            "flex": null,
            "_model_name": "LayoutModel",
            "justify_items": null,
            "grid_row": null,
            "max_height": null,
            "align_content": null,
            "visibility": null,
            "align_self": null,
            "height": null,
            "min_height": null,
            "padding": null,
            "grid_auto_rows": null,
            "grid_gap": null,
            "max_width": null,
            "order": null,
            "_view_module_version": "1.2.0",
            "grid_template_areas": null,
            "object_position": null,
            "object_fit": null,
            "grid_auto_columns": null,
            "margin": null,
            "display": null,
            "left": null
          }
        },
        "d85e31b31dd6481d8d326b91d745ec10": {
          "model_module": "@jupyter-widgets/controls",
          "model_name": "HBoxModel",
          "state": {
            "_view_name": "HBoxView",
            "_dom_classes": [],
            "_model_name": "HBoxModel",
            "_view_module": "@jupyter-widgets/controls",
            "_model_module_version": "1.5.0",
            "_view_count": null,
            "_view_module_version": "1.5.0",
            "box_style": "",
            "layout": "IPY_MODEL_54f7b8b3c9ee48f0b6a0acfb093b3fc3",
            "_model_module": "@jupyter-widgets/controls",
            "children": [
              "IPY_MODEL_fe755beacf0a491e8c125922d03defb5",
              "IPY_MODEL_0d8ac66cc23a49048ecd7c367c81e294"
            ]
          }
        },
        "54f7b8b3c9ee48f0b6a0acfb093b3fc3": {
          "model_module": "@jupyter-widgets/base",
          "model_name": "LayoutModel",
          "state": {
            "_view_name": "LayoutView",
            "grid_template_rows": null,
            "right": null,
            "justify_content": null,
            "_view_module": "@jupyter-widgets/base",
            "overflow": null,
            "_model_module_version": "1.2.0",
            "_view_count": null,
            "flex_flow": null,
            "width": null,
            "min_width": null,
            "border": null,
            "align_items": null,
            "bottom": null,
            "_model_module": "@jupyter-widgets/base",
            "top": null,
            "grid_column": null,
            "overflow_y": null,
            "overflow_x": null,
            "grid_auto_flow": null,
            "grid_area": null,
            "grid_template_columns": null,
            "flex": null,
            "_model_name": "LayoutModel",
            "justify_items": null,
            "grid_row": null,
            "max_height": null,
            "align_content": null,
            "visibility": null,
            "align_self": null,
            "height": null,
            "min_height": null,
            "padding": null,
            "grid_auto_rows": null,
            "grid_gap": null,
            "max_width": null,
            "order": null,
            "_view_module_version": "1.2.0",
            "grid_template_areas": null,
            "object_position": null,
            "object_fit": null,
            "grid_auto_columns": null,
            "margin": null,
            "display": null,
            "left": null
          }
        },
        "fe755beacf0a491e8c125922d03defb5": {
          "model_module": "@jupyter-widgets/controls",
          "model_name": "FloatProgressModel",
          "state": {
            "_view_name": "ProgressView",
            "style": "IPY_MODEL_8a4f89b7545b4ca69539258a9813488b",
            "_dom_classes": [],
            "description": "Downloading: 100%",
            "_model_name": "FloatProgressModel",
            "bar_style": "success",
            "max": 229167,
            "_view_module": "@jupyter-widgets/controls",
            "_model_module_version": "1.5.0",
            "value": 229167,
            "_view_count": null,
            "_view_module_version": "1.5.0",
            "orientation": "horizontal",
            "min": 0,
            "description_tooltip": null,
            "_model_module": "@jupyter-widgets/controls",
            "layout": "IPY_MODEL_aecbd2f9886c46b09fa7bd3df51bd6b3"
          }
        },
        "0d8ac66cc23a49048ecd7c367c81e294": {
          "model_module": "@jupyter-widgets/controls",
          "model_name": "HTMLModel",
          "state": {
            "_view_name": "HTMLView",
            "style": "IPY_MODEL_cce5e6a1de4b4d0a8d30eaacd476b6f9",
            "_dom_classes": [],
            "description": "",
            "_model_name": "HTMLModel",
            "placeholder": "​",
            "_view_module": "@jupyter-widgets/controls",
            "_model_module_version": "1.5.0",
            "value": " 229k/229k [00:00&lt;00:00, 638kB/s]",
            "_view_count": null,
            "_view_module_version": "1.5.0",
            "description_tooltip": null,
            "_model_module": "@jupyter-widgets/controls",
            "layout": "IPY_MODEL_db90307107fd41159bf83e88bd427781"
          }
        },
        "8a4f89b7545b4ca69539258a9813488b": {
          "model_module": "@jupyter-widgets/controls",
          "model_name": "ProgressStyleModel",
          "state": {
            "_view_name": "StyleView",
            "_model_name": "ProgressStyleModel",
            "description_width": "initial",
            "_view_module": "@jupyter-widgets/base",
            "_model_module_version": "1.5.0",
            "_view_count": null,
            "_view_module_version": "1.2.0",
            "bar_color": null,
            "_model_module": "@jupyter-widgets/controls"
          }
        },
        "aecbd2f9886c46b09fa7bd3df51bd6b3": {
          "model_module": "@jupyter-widgets/base",
          "model_name": "LayoutModel",
          "state": {
            "_view_name": "LayoutView",
            "grid_template_rows": null,
            "right": null,
            "justify_content": null,
            "_view_module": "@jupyter-widgets/base",
            "overflow": null,
            "_model_module_version": "1.2.0",
            "_view_count": null,
            "flex_flow": null,
            "width": null,
            "min_width": null,
            "border": null,
            "align_items": null,
            "bottom": null,
            "_model_module": "@jupyter-widgets/base",
            "top": null,
            "grid_column": null,
            "overflow_y": null,
            "overflow_x": null,
            "grid_auto_flow": null,
            "grid_area": null,
            "grid_template_columns": null,
            "flex": null,
            "_model_name": "LayoutModel",
            "justify_items": null,
            "grid_row": null,
            "max_height": null,
            "align_content": null,
            "visibility": null,
            "align_self": null,
            "height": null,
            "min_height": null,
            "padding": null,
            "grid_auto_rows": null,
            "grid_gap": null,
            "max_width": null,
            "order": null,
            "_view_module_version": "1.2.0",
            "grid_template_areas": null,
            "object_position": null,
            "object_fit": null,
            "grid_auto_columns": null,
            "margin": null,
            "display": null,
            "left": null
          }
        },
        "cce5e6a1de4b4d0a8d30eaacd476b6f9": {
          "model_module": "@jupyter-widgets/controls",
          "model_name": "DescriptionStyleModel",
          "state": {
            "_view_name": "StyleView",
            "_model_name": "DescriptionStyleModel",
            "description_width": "",
            "_view_module": "@jupyter-widgets/base",
            "_model_module_version": "1.5.0",
            "_view_count": null,
            "_view_module_version": "1.2.0",
            "_model_module": "@jupyter-widgets/controls"
          }
        },
        "db90307107fd41159bf83e88bd427781": {
          "model_module": "@jupyter-widgets/base",
          "model_name": "LayoutModel",
          "state": {
            "_view_name": "LayoutView",
            "grid_template_rows": null,
            "right": null,
            "justify_content": null,
            "_view_module": "@jupyter-widgets/base",
            "overflow": null,
            "_model_module_version": "1.2.0",
            "_view_count": null,
            "flex_flow": null,
            "width": null,
            "min_width": null,
            "border": null,
            "align_items": null,
            "bottom": null,
            "_model_module": "@jupyter-widgets/base",
            "top": null,
            "grid_column": null,
            "overflow_y": null,
            "overflow_x": null,
            "grid_auto_flow": null,
            "grid_area": null,
            "grid_template_columns": null,
            "flex": null,
            "_model_name": "LayoutModel",
            "justify_items": null,
            "grid_row": null,
            "max_height": null,
            "align_content": null,
            "visibility": null,
            "align_self": null,
            "height": null,
            "min_height": null,
            "padding": null,
            "grid_auto_rows": null,
            "grid_gap": null,
            "max_width": null,
            "order": null,
            "_view_module_version": "1.2.0",
            "grid_template_areas": null,
            "object_position": null,
            "object_fit": null,
            "grid_auto_columns": null,
            "margin": null,
            "display": null,
            "left": null
          }
        },
        "d26a5f91e8cc4c81b090b6bb79ed03b3": {
          "model_module": "@jupyter-widgets/controls",
          "model_name": "HBoxModel",
          "state": {
            "_view_name": "HBoxView",
            "_dom_classes": [],
            "_model_name": "HBoxModel",
            "_view_module": "@jupyter-widgets/controls",
            "_model_module_version": "1.5.0",
            "_view_count": null,
            "_view_module_version": "1.5.0",
            "box_style": "",
            "layout": "IPY_MODEL_02dbeb485d5f4c109d429e993ef8c57f",
            "_model_module": "@jupyter-widgets/controls",
            "children": [
              "IPY_MODEL_7173a8744e6c448ba960c2366564d11f",
              "IPY_MODEL_388cf56939e048ee888e468cb03980e1"
            ]
          }
        },
        "02dbeb485d5f4c109d429e993ef8c57f": {
          "model_module": "@jupyter-widgets/base",
          "model_name": "LayoutModel",
          "state": {
            "_view_name": "LayoutView",
            "grid_template_rows": null,
            "right": null,
            "justify_content": null,
            "_view_module": "@jupyter-widgets/base",
            "overflow": null,
            "_model_module_version": "1.2.0",
            "_view_count": null,
            "flex_flow": null,
            "width": null,
            "min_width": null,
            "border": null,
            "align_items": null,
            "bottom": null,
            "_model_module": "@jupyter-widgets/base",
            "top": null,
            "grid_column": null,
            "overflow_y": null,
            "overflow_x": null,
            "grid_auto_flow": null,
            "grid_area": null,
            "grid_template_columns": null,
            "flex": null,
            "_model_name": "LayoutModel",
            "justify_items": null,
            "grid_row": null,
            "max_height": null,
            "align_content": null,
            "visibility": null,
            "align_self": null,
            "height": null,
            "min_height": null,
            "padding": null,
            "grid_auto_rows": null,
            "grid_gap": null,
            "max_width": null,
            "order": null,
            "_view_module_version": "1.2.0",
            "grid_template_areas": null,
            "object_position": null,
            "object_fit": null,
            "grid_auto_columns": null,
            "margin": null,
            "display": null,
            "left": null
          }
        },
        "7173a8744e6c448ba960c2366564d11f": {
          "model_module": "@jupyter-widgets/controls",
          "model_name": "FloatProgressModel",
          "state": {
            "_view_name": "ProgressView",
            "style": "IPY_MODEL_86afd57fedce4e30bd6062a7d037a0aa",
            "_dom_classes": [],
            "description": "Downloading: 100%",
            "_model_name": "FloatProgressModel",
            "bar_style": "success",
            "max": 112,
            "_view_module": "@jupyter-widgets/controls",
            "_model_module_version": "1.5.0",
            "value": 112,
            "_view_count": null,
            "_view_module_version": "1.5.0",
            "orientation": "horizontal",
            "min": 0,
            "description_tooltip": null,
            "_model_module": "@jupyter-widgets/controls",
            "layout": "IPY_MODEL_abb1735a1a8c4755bf9f268fdb45b947"
          }
        },
        "388cf56939e048ee888e468cb03980e1": {
          "model_module": "@jupyter-widgets/controls",
          "model_name": "HTMLModel",
          "state": {
            "_view_name": "HTMLView",
            "style": "IPY_MODEL_02dc9b454ea94499841c2bed68cd7908",
            "_dom_classes": [],
            "description": "",
            "_model_name": "HTMLModel",
            "placeholder": "​",
            "_view_module": "@jupyter-widgets/controls",
            "_model_module_version": "1.5.0",
            "value": " 112/112 [00:00&lt;00:00, 598B/s]",
            "_view_count": null,
            "_view_module_version": "1.5.0",
            "description_tooltip": null,
            "_model_module": "@jupyter-widgets/controls",
            "layout": "IPY_MODEL_222700dda78a41be8efdbaa4412fe5ce"
          }
        },
        "86afd57fedce4e30bd6062a7d037a0aa": {
          "model_module": "@jupyter-widgets/controls",
          "model_name": "ProgressStyleModel",
          "state": {
            "_view_name": "StyleView",
            "_model_name": "ProgressStyleModel",
            "description_width": "initial",
            "_view_module": "@jupyter-widgets/base",
            "_model_module_version": "1.5.0",
            "_view_count": null,
            "_view_module_version": "1.2.0",
            "bar_color": null,
            "_model_module": "@jupyter-widgets/controls"
          }
        },
        "abb1735a1a8c4755bf9f268fdb45b947": {
          "model_module": "@jupyter-widgets/base",
          "model_name": "LayoutModel",
          "state": {
            "_view_name": "LayoutView",
            "grid_template_rows": null,
            "right": null,
            "justify_content": null,
            "_view_module": "@jupyter-widgets/base",
            "overflow": null,
            "_model_module_version": "1.2.0",
            "_view_count": null,
            "flex_flow": null,
            "width": null,
            "min_width": null,
            "border": null,
            "align_items": null,
            "bottom": null,
            "_model_module": "@jupyter-widgets/base",
            "top": null,
            "grid_column": null,
            "overflow_y": null,
            "overflow_x": null,
            "grid_auto_flow": null,
            "grid_area": null,
            "grid_template_columns": null,
            "flex": null,
            "_model_name": "LayoutModel",
            "justify_items": null,
            "grid_row": null,
            "max_height": null,
            "align_content": null,
            "visibility": null,
            "align_self": null,
            "height": null,
            "min_height": null,
            "padding": null,
            "grid_auto_rows": null,
            "grid_gap": null,
            "max_width": null,
            "order": null,
            "_view_module_version": "1.2.0",
            "grid_template_areas": null,
            "object_position": null,
            "object_fit": null,
            "grid_auto_columns": null,
            "margin": null,
            "display": null,
            "left": null
          }
        },
        "02dc9b454ea94499841c2bed68cd7908": {
          "model_module": "@jupyter-widgets/controls",
          "model_name": "DescriptionStyleModel",
          "state": {
            "_view_name": "StyleView",
            "_model_name": "DescriptionStyleModel",
            "description_width": "",
            "_view_module": "@jupyter-widgets/base",
            "_model_module_version": "1.5.0",
            "_view_count": null,
            "_view_module_version": "1.2.0",
            "_model_module": "@jupyter-widgets/controls"
          }
        },
        "222700dda78a41be8efdbaa4412fe5ce": {
          "model_module": "@jupyter-widgets/base",
          "model_name": "LayoutModel",
          "state": {
            "_view_name": "LayoutView",
            "grid_template_rows": null,
            "right": null,
            "justify_content": null,
            "_view_module": "@jupyter-widgets/base",
            "overflow": null,
            "_model_module_version": "1.2.0",
            "_view_count": null,
            "flex_flow": null,
            "width": null,
            "min_width": null,
            "border": null,
            "align_items": null,
            "bottom": null,
            "_model_module": "@jupyter-widgets/base",
            "top": null,
            "grid_column": null,
            "overflow_y": null,
            "overflow_x": null,
            "grid_auto_flow": null,
            "grid_area": null,
            "grid_template_columns": null,
            "flex": null,
            "_model_name": "LayoutModel",
            "justify_items": null,
            "grid_row": null,
            "max_height": null,
            "align_content": null,
            "visibility": null,
            "align_self": null,
            "height": null,
            "min_height": null,
            "padding": null,
            "grid_auto_rows": null,
            "grid_gap": null,
            "max_width": null,
            "order": null,
            "_view_module_version": "1.2.0",
            "grid_template_areas": null,
            "object_position": null,
            "object_fit": null,
            "grid_auto_columns": null,
            "margin": null,
            "display": null,
            "left": null
          }
        },
        "f0f49f446e1147a8a3b98625bd8ead99": {
          "model_module": "@jupyter-widgets/controls",
          "model_name": "HBoxModel",
          "state": {
            "_view_name": "HBoxView",
            "_dom_classes": [],
            "_model_name": "HBoxModel",
            "_view_module": "@jupyter-widgets/controls",
            "_model_module_version": "1.5.0",
            "_view_count": null,
            "_view_module_version": "1.5.0",
            "box_style": "",
            "layout": "IPY_MODEL_989b4ab3ea114f0895954da5f2aec3e9",
            "_model_module": "@jupyter-widgets/controls",
            "children": [
              "IPY_MODEL_e1b45ea8900d4ce685629564b0c8abef",
              "IPY_MODEL_702fb77897ec4936b1f69da870209021"
            ]
          }
        },
        "989b4ab3ea114f0895954da5f2aec3e9": {
          "model_module": "@jupyter-widgets/base",
          "model_name": "LayoutModel",
          "state": {
            "_view_name": "LayoutView",
            "grid_template_rows": null,
            "right": null,
            "justify_content": null,
            "_view_module": "@jupyter-widgets/base",
            "overflow": null,
            "_model_module_version": "1.2.0",
            "_view_count": null,
            "flex_flow": null,
            "width": null,
            "min_width": null,
            "border": null,
            "align_items": null,
            "bottom": null,
            "_model_module": "@jupyter-widgets/base",
            "top": null,
            "grid_column": null,
            "overflow_y": null,
            "overflow_x": null,
            "grid_auto_flow": null,
            "grid_area": null,
            "grid_template_columns": null,
            "flex": null,
            "_model_name": "LayoutModel",
            "justify_items": null,
            "grid_row": null,
            "max_height": null,
            "align_content": null,
            "visibility": null,
            "align_self": null,
            "height": null,
            "min_height": null,
            "padding": null,
            "grid_auto_rows": null,
            "grid_gap": null,
            "max_width": null,
            "order": null,
            "_view_module_version": "1.2.0",
            "grid_template_areas": null,
            "object_position": null,
            "object_fit": null,
            "grid_auto_columns": null,
            "margin": null,
            "display": null,
            "left": null
          }
        },
        "e1b45ea8900d4ce685629564b0c8abef": {
          "model_module": "@jupyter-widgets/controls",
          "model_name": "FloatProgressModel",
          "state": {
            "_view_name": "ProgressView",
            "style": "IPY_MODEL_f0710fe38d864d4f8a30406c053ea651",
            "_dom_classes": [],
            "description": "Downloading: 100%",
            "_model_name": "FloatProgressModel",
            "bar_style": "success",
            "max": 2,
            "_view_module": "@jupyter-widgets/controls",
            "_model_module_version": "1.5.0",
            "value": 2,
            "_view_count": null,
            "_view_module_version": "1.5.0",
            "orientation": "horizontal",
            "min": 0,
            "description_tooltip": null,
            "_model_module": "@jupyter-widgets/controls",
            "layout": "IPY_MODEL_29194714397c4fab9e52fe24e96c595d"
          }
        },
        "702fb77897ec4936b1f69da870209021": {
          "model_module": "@jupyter-widgets/controls",
          "model_name": "HTMLModel",
          "state": {
            "_view_name": "HTMLView",
            "style": "IPY_MODEL_cf3c17b3191d409f9084faee7e18ebd8",
            "_dom_classes": [],
            "description": "",
            "_model_name": "HTMLModel",
            "placeholder": "​",
            "_view_module": "@jupyter-widgets/controls",
            "_model_module_version": "1.5.0",
            "value": " 2.00/2.00 [00:00&lt;00:00, 24.3B/s]",
            "_view_count": null,
            "_view_module_version": "1.5.0",
            "description_tooltip": null,
            "_model_module": "@jupyter-widgets/controls",
            "layout": "IPY_MODEL_bdb25237edde4d24b0966bdf17e9eaac"
          }
        },
        "f0710fe38d864d4f8a30406c053ea651": {
          "model_module": "@jupyter-widgets/controls",
          "model_name": "ProgressStyleModel",
          "state": {
            "_view_name": "StyleView",
            "_model_name": "ProgressStyleModel",
            "description_width": "initial",
            "_view_module": "@jupyter-widgets/base",
            "_model_module_version": "1.5.0",
            "_view_count": null,
            "_view_module_version": "1.2.0",
            "bar_color": null,
            "_model_module": "@jupyter-widgets/controls"
          }
        },
        "29194714397c4fab9e52fe24e96c595d": {
          "model_module": "@jupyter-widgets/base",
          "model_name": "LayoutModel",
          "state": {
            "_view_name": "LayoutView",
            "grid_template_rows": null,
            "right": null,
            "justify_content": null,
            "_view_module": "@jupyter-widgets/base",
            "overflow": null,
            "_model_module_version": "1.2.0",
            "_view_count": null,
            "flex_flow": null,
            "width": null,
            "min_width": null,
            "border": null,
            "align_items": null,
            "bottom": null,
            "_model_module": "@jupyter-widgets/base",
            "top": null,
            "grid_column": null,
            "overflow_y": null,
            "overflow_x": null,
            "grid_auto_flow": null,
            "grid_area": null,
            "grid_template_columns": null,
            "flex": null,
            "_model_name": "LayoutModel",
            "justify_items": null,
            "grid_row": null,
            "max_height": null,
            "align_content": null,
            "visibility": null,
            "align_self": null,
            "height": null,
            "min_height": null,
            "padding": null,
            "grid_auto_rows": null,
            "grid_gap": null,
            "max_width": null,
            "order": null,
            "_view_module_version": "1.2.0",
            "grid_template_areas": null,
            "object_position": null,
            "object_fit": null,
            "grid_auto_columns": null,
            "margin": null,
            "display": null,
            "left": null
          }
        },
        "cf3c17b3191d409f9084faee7e18ebd8": {
          "model_module": "@jupyter-widgets/controls",
          "model_name": "DescriptionStyleModel",
          "state": {
            "_view_name": "StyleView",
            "_model_name": "DescriptionStyleModel",
            "description_width": "",
            "_view_module": "@jupyter-widgets/base",
            "_model_module_version": "1.5.0",
            "_view_count": null,
            "_view_module_version": "1.2.0",
            "_model_module": "@jupyter-widgets/controls"
          }
        },
        "bdb25237edde4d24b0966bdf17e9eaac": {
          "model_module": "@jupyter-widgets/base",
          "model_name": "LayoutModel",
          "state": {
            "_view_name": "LayoutView",
            "grid_template_rows": null,
            "right": null,
            "justify_content": null,
            "_view_module": "@jupyter-widgets/base",
            "overflow": null,
            "_model_module_version": "1.2.0",
            "_view_count": null,
            "flex_flow": null,
            "width": null,
            "min_width": null,
            "border": null,
            "align_items": null,
            "bottom": null,
            "_model_module": "@jupyter-widgets/base",
            "top": null,
            "grid_column": null,
            "overflow_y": null,
            "overflow_x": null,
            "grid_auto_flow": null,
            "grid_area": null,
            "grid_template_columns": null,
            "flex": null,
            "_model_name": "LayoutModel",
            "justify_items": null,
            "grid_row": null,
            "max_height": null,
            "align_content": null,
            "visibility": null,
            "align_self": null,
            "height": null,
            "min_height": null,
            "padding": null,
            "grid_auto_rows": null,
            "grid_gap": null,
            "max_width": null,
            "order": null,
            "_view_module_version": "1.2.0",
            "grid_template_areas": null,
            "object_position": null,
            "object_fit": null,
            "grid_auto_columns": null,
            "margin": null,
            "display": null,
            "left": null
          }
        },
        "e23f4dd8b35b432cabaa5a2c44d6cb4f": {
          "model_module": "@jupyter-widgets/controls",
          "model_name": "HBoxModel",
          "state": {
            "_view_name": "HBoxView",
            "_dom_classes": [],
            "_model_name": "HBoxModel",
            "_view_module": "@jupyter-widgets/controls",
            "_model_module_version": "1.5.0",
            "_view_count": null,
            "_view_module_version": "1.5.0",
            "box_style": "",
            "layout": "IPY_MODEL_a84fb3c04e3341ff955ca379066d6348",
            "_model_module": "@jupyter-widgets/controls",
            "children": [
              "IPY_MODEL_28f0fffd597c4eff8b207b067329be61",
              "IPY_MODEL_a8506f4f7f3f4087bd348e45c48467d6"
            ]
          }
        },
        "a84fb3c04e3341ff955ca379066d6348": {
          "model_module": "@jupyter-widgets/base",
          "model_name": "LayoutModel",
          "state": {
            "_view_name": "LayoutView",
            "grid_template_rows": null,
            "right": null,
            "justify_content": null,
            "_view_module": "@jupyter-widgets/base",
            "overflow": null,
            "_model_module_version": "1.2.0",
            "_view_count": null,
            "flex_flow": null,
            "width": null,
            "min_width": null,
            "border": null,
            "align_items": null,
            "bottom": null,
            "_model_module": "@jupyter-widgets/base",
            "top": null,
            "grid_column": null,
            "overflow_y": null,
            "overflow_x": null,
            "grid_auto_flow": null,
            "grid_area": null,
            "grid_template_columns": null,
            "flex": null,
            "_model_name": "LayoutModel",
            "justify_items": null,
            "grid_row": null,
            "max_height": null,
            "align_content": null,
            "visibility": null,
            "align_self": null,
            "height": null,
            "min_height": null,
            "padding": null,
            "grid_auto_rows": null,
            "grid_gap": null,
            "max_width": null,
            "order": null,
            "_view_module_version": "1.2.0",
            "grid_template_areas": null,
            "object_position": null,
            "object_fit": null,
            "grid_auto_columns": null,
            "margin": null,
            "display": null,
            "left": null
          }
        },
        "28f0fffd597c4eff8b207b067329be61": {
          "model_module": "@jupyter-widgets/controls",
          "model_name": "FloatProgressModel",
          "state": {
            "_view_name": "ProgressView",
            "style": "IPY_MODEL_735fc3eb9c284b49aa3c3e82bb164600",
            "_dom_classes": [],
            "description": "Downloading: 100%",
            "_model_name": "FloatProgressModel",
            "bar_style": "success",
            "max": 655812184,
            "_view_module": "@jupyter-widgets/controls",
            "_model_module_version": "1.5.0",
            "value": 655812184,
            "_view_count": null,
            "_view_module_version": "1.5.0",
            "orientation": "horizontal",
            "min": 0,
            "description_tooltip": null,
            "_model_module": "@jupyter-widgets/controls",
            "layout": "IPY_MODEL_2204431d650a43f7bce2d3c6b255bf10"
          }
        },
        "a8506f4f7f3f4087bd348e45c48467d6": {
          "model_module": "@jupyter-widgets/controls",
          "model_name": "HTMLModel",
          "state": {
            "_view_name": "HTMLView",
            "style": "IPY_MODEL_147318d215d84c4d85cc5343a79eaaae",
            "_dom_classes": [],
            "description": "",
            "_model_name": "HTMLModel",
            "placeholder": "​",
            "_view_module": "@jupyter-widgets/controls",
            "_model_module_version": "1.5.0",
            "value": " 656M/656M [00:14&lt;00:00, 45.0MB/s]",
            "_view_count": null,
            "_view_module_version": "1.5.0",
            "description_tooltip": null,
            "_model_module": "@jupyter-widgets/controls",
            "layout": "IPY_MODEL_cb0526726a3b4c978f6faa44190b282b"
          }
        },
        "735fc3eb9c284b49aa3c3e82bb164600": {
          "model_module": "@jupyter-widgets/controls",
          "model_name": "ProgressStyleModel",
          "state": {
            "_view_name": "StyleView",
            "_model_name": "ProgressStyleModel",
            "description_width": "initial",
            "_view_module": "@jupyter-widgets/base",
            "_model_module_version": "1.5.0",
            "_view_count": null,
            "_view_module_version": "1.2.0",
            "bar_color": null,
            "_model_module": "@jupyter-widgets/controls"
          }
        },
        "2204431d650a43f7bce2d3c6b255bf10": {
          "model_module": "@jupyter-widgets/base",
          "model_name": "LayoutModel",
          "state": {
            "_view_name": "LayoutView",
            "grid_template_rows": null,
            "right": null,
            "justify_content": null,
            "_view_module": "@jupyter-widgets/base",
            "overflow": null,
            "_model_module_version": "1.2.0",
            "_view_count": null,
            "flex_flow": null,
            "width": null,
            "min_width": null,
            "border": null,
            "align_items": null,
            "bottom": null,
            "_model_module": "@jupyter-widgets/base",
            "top": null,
            "grid_column": null,
            "overflow_y": null,
            "overflow_x": null,
            "grid_auto_flow": null,
            "grid_area": null,
            "grid_template_columns": null,
            "flex": null,
            "_model_name": "LayoutModel",
            "justify_items": null,
            "grid_row": null,
            "max_height": null,
            "align_content": null,
            "visibility": null,
            "align_self": null,
            "height": null,
            "min_height": null,
            "padding": null,
            "grid_auto_rows": null,
            "grid_gap": null,
            "max_width": null,
            "order": null,
            "_view_module_version": "1.2.0",
            "grid_template_areas": null,
            "object_position": null,
            "object_fit": null,
            "grid_auto_columns": null,
            "margin": null,
            "display": null,
            "left": null
          }
        },
        "147318d215d84c4d85cc5343a79eaaae": {
          "model_module": "@jupyter-widgets/controls",
          "model_name": "DescriptionStyleModel",
          "state": {
            "_view_name": "StyleView",
            "_model_name": "DescriptionStyleModel",
            "description_width": "",
            "_view_module": "@jupyter-widgets/base",
            "_model_module_version": "1.5.0",
            "_view_count": null,
            "_view_module_version": "1.2.0",
            "_model_module": "@jupyter-widgets/controls"
          }
        },
        "cb0526726a3b4c978f6faa44190b282b": {
          "model_module": "@jupyter-widgets/base",
          "model_name": "LayoutModel",
          "state": {
            "_view_name": "LayoutView",
            "grid_template_rows": null,
            "right": null,
            "justify_content": null,
            "_view_module": "@jupyter-widgets/base",
            "overflow": null,
            "_model_module_version": "1.2.0",
            "_view_count": null,
            "flex_flow": null,
            "width": null,
            "min_width": null,
            "border": null,
            "align_items": null,
            "bottom": null,
            "_model_module": "@jupyter-widgets/base",
            "top": null,
            "grid_column": null,
            "overflow_y": null,
            "overflow_x": null,
            "grid_auto_flow": null,
            "grid_area": null,
            "grid_template_columns": null,
            "flex": null,
            "_model_name": "LayoutModel",
            "justify_items": null,
            "grid_row": null,
            "max_height": null,
            "align_content": null,
            "visibility": null,
            "align_self": null,
            "height": null,
            "min_height": null,
            "padding": null,
            "grid_auto_rows": null,
            "grid_gap": null,
            "max_width": null,
            "order": null,
            "_view_module_version": "1.2.0",
            "grid_template_areas": null,
            "object_position": null,
            "object_fit": null,
            "grid_auto_columns": null,
            "margin": null,
            "display": null,
            "left": null
          }
        }
      }
    }
  },
  "cells": [
    {
      "cell_type": "code",
      "execution_count": null,
      "source": [
        "## DONE"
      ],
      "outputs": [],
      "metadata": {}
    },
    {
      "cell_type": "code",
      "execution_count": null,
      "source": [
        "from google.colab import drive\r\n",
        "drive.mount('/content/drive')"
      ],
      "outputs": [],
      "metadata": {
        "id": "ZMhrW43frwOl",
        "outputId": "4ca2d1c6-0167-466d-d44f-86ce775aad1d",
        "colab": {
          "base_uri": "https://localhost:8080/",
          "height": 36
        }
      }
    },
    {
      "cell_type": "code",
      "execution_count": null,
      "source": [
        "!pip install transformers\r\n",
        "!pip install pytypo"
      ],
      "outputs": [],
      "metadata": {
        "id": "moEDiVQ8sLkH",
        "outputId": "c71c2af8-e440-4d46-8ca8-a3a9e842f4e8",
        "colab": {
          "base_uri": "https://localhost:8080/",
          "height": 882
        }
      }
    },
    {
      "cell_type": "code",
      "execution_count": null,
      "source": [
        "pip install emoji"
      ],
      "outputs": [],
      "metadata": {
        "id": "DQZYwmA3te9U",
        "outputId": "30da6dc9-b6d6-44f9-e915-746f0676227a",
        "colab": {
          "base_uri": "https://localhost:8080/",
          "height": 205
        }
      }
    },
    {
      "cell_type": "code",
      "execution_count": null,
      "source": [
        "import pandas as pd\r\n",
        "import numpy as np\r\n",
        "import pytypo\r\n",
        "import re\r\n",
        "import tensorflow as tf\r\n",
        "import tensorflow_addons as tfa\r\n",
        "import emoji\r\n",
        "\r\n",
        "AUTO = tf.data.experimental.AUTOTUNE\r\n",
        "\r\n",
        "data1 = pd.read_excel(\"/content/drive/My Drive/DimasASu/Data Latih BDC.xlsx\")\r\n",
        "data2 = pd.read_csv(\"/content/drive/My Drive/DimasASu/data_clean.csv\")\r\n",
        "\r\n",
        "dataTest = pd.read_csv(\"/content/drive/My Drive/DimasASu/datatest_labelled.csv\")\r\n",
        "\r\n",
        "data1.head() , data2.head()"
      ],
      "outputs": [],
      "metadata": {
        "id": "k9iQhLi2sa5j",
        "outputId": "47030fbb-28e9-45fe-b1a8-72ba5be2d7dc",
        "colab": {
          "base_uri": "https://localhost:8080/",
          "height": 299
        }
      }
    },
    {
      "cell_type": "code",
      "execution_count": null,
      "source": [
        "print(f\"Columns1 {data1.columns}\\nColumns2 {data2.columns}\\n\\nShape1{data1.shape }\\nShape2{data2.shape} \")"
      ],
      "outputs": [],
      "metadata": {
        "id": "a4JvJKFutI73",
        "outputId": "198b0d29-a235-471f-93f2-d6865d86e103",
        "colab": {
          "base_uri": "https://localhost:8080/",
          "height": 111
        }
      }
    },
    {
      "cell_type": "code",
      "execution_count": null,
      "source": [
        "data1 = data1[[\"judul\",\"narasi\",\"label\"]]\r\n",
        "data2 = data2[[\"judul\",\"narasi\",\"label\"]]\r\n",
        "\r\n",
        "df_train = pd.concat([data1,data2])\r\n",
        "df_train = df_train.reset_index().drop(\"index\",axis = 1)\r\n",
        "df_train.tail()"
      ],
      "outputs": [],
      "metadata": {
        "id": "M7283ARTtsY1",
        "outputId": "1e59947d-50fa-4282-fe3d-ea1ebca75a89",
        "colab": {
          "base_uri": "https://localhost:8080/",
          "height": 207
        }
      }
    },
    {
      "cell_type": "code",
      "execution_count": null,
      "source": [
        "print(df_train.isna().sum())\n",
        "df_train.dropna(inplace = True)\n",
        "df_train.isna().sum() , df_train.shape"
      ],
      "outputs": [],
      "metadata": {
        "id": "04kDvaKmwk8h",
        "outputId": "890f68b5-fe90-43e6-de71-3a9c974ee9bc",
        "colab": {
          "base_uri": "https://localhost:8080/",
          "height": 167
        }
      }
    },
    {
      "cell_type": "code",
      "execution_count": null,
      "source": [
        "sameIndex = []\n",
        "for key1,val in df_train[\"judul\"].items():\n",
        "  i = 0\n",
        "  for key2,val in dataTest[\"judul\"].items():\n",
        "    if(key1 == key2):\n",
        "      sameIndex.append(i)\n",
        "    else:\n",
        "      i = i + 1\n",
        "len(sameIndex)\n",
        "\n",
        "df_train = df_train.drop(sameIndex)\n",
        "df_train.shape"
      ],
      "outputs": [],
      "metadata": {
        "id": "nKFCS6ytxQCl",
        "outputId": "acb5618a-428e-4bc5-dccd-0f39f4fef1ef",
        "colab": {
          "base_uri": "https://localhost:8080/",
          "height": 36
        }
      }
    },
    {
      "cell_type": "code",
      "execution_count": null,
      "source": [
        "df_train = df_train.sample(frac=1,random_state = 0)\n",
        "df_train.head()"
      ],
      "outputs": [],
      "metadata": {
        "id": "Oi07SB_ByRjl",
        "outputId": "09c70ee8-d08a-46e5-97df-059d496498ec",
        "colab": {
          "base_uri": "https://localhost:8080/",
          "height": 207
        }
      }
    },
    {
      "cell_type": "code",
      "execution_count": null,
      "source": [
        "def clean(text) : \n",
        "\n",
        "  text_cleaning_re = \"@\\S+|https?:\\S+|http?:\\S|[#]+|[^A-Za-z0-9]+\"\n",
        "  text_cleaning_hash = \"#[A-Za-z0-9]+\" \n",
        "  text_cleaning_num = \"(^|\\W)\\d+\"\n",
        "\n",
        "  text = re.sub(text_cleaning_hash, \" \", text).strip()\n",
        "  text = re.sub(text_cleaning_num, \" \", text).strip()\n",
        "  text = re.sub(text_cleaning_re, \" \", text).strip()\n",
        "  \n",
        "  text = text.strip()\n",
        "\n",
        "  out = []\n",
        "  for word in text.split() :\n",
        "    # try : \n",
        "    #   out.append(word.replace(word, slang[word]))\n",
        "    # except Exception as e : \n",
        "    out.append(word)\n",
        "      \n",
        "  return pytypo.correct_sentence(\" \".join(out).strip())\n"
      ],
      "outputs": [],
      "metadata": {
        "id": "nADxYf1-u5Jf"
      }
    },
    {
      "cell_type": "code",
      "execution_count": null,
      "source": [
        "def freeEmoji(text):\n",
        "    allchars = [str for str in text]\n",
        "    emoji_list = [c for c in allchars if c in emoji.UNICODE_EMOJI]\n",
        "    clean_text = ' '.join([str for str in text.split() if not any(i in str for i in emoji_list)])\n",
        "    return clean_text"
      ],
      "outputs": [],
      "metadata": {
        "id": "vEu833DttO9o"
      }
    },
    {
      "cell_type": "code",
      "execution_count": null,
      "source": [
        "df_train[\"narasi\"] = df_train[\"narasi\"].apply(clean)\n",
        "df_train[\"judul\"] = df_train[\"judul\"].apply(clean)\n",
        "\n",
        "dataTest[\"narasi\"] = dataTest[\"narasi\"].apply(clean)\n",
        "dataTest[\"judul\"] = dataTest[\"judul\"].apply(clean)\n",
        "\n",
        "df_train[\"narasi\"] = df_train[\"narasi\"].apply(freeEmoji)\n",
        "df_train[\"judul\"] = df_train[\"judul\"].apply(freeEmoji)\n",
        "\n",
        "dataTest[\"narasi\"] = dataTest[\"narasi\"].apply(freeEmoji)\n",
        "dataTest[\"judul\"] = dataTest[\"judul\"].apply(freeEmoji)\n",
        "\n"
      ],
      "outputs": [],
      "metadata": {
        "id": "m7o2XIzrve5S"
      }
    },
    {
      "cell_type": "code",
      "execution_count": null,
      "source": [
        "df_train.head(10)"
      ],
      "outputs": [],
      "metadata": {
        "id": "_nk7Rek4uLkY",
        "outputId": "a8af8095-cd30-4e5a-e479-ebe6cfaca9e0",
        "colab": {
          "base_uri": "https://localhost:8080/",
          "height": 363
        }
      }
    },
    {
      "cell_type": "code",
      "execution_count": null,
      "source": [
        "from transformers import AutoTokenizer,TFAutoModel,AutoModel\n",
        "tokenizer = AutoTokenizer.from_pretrained(\"indobenchmark/indobert-base-p2\")\n",
        "IndoBert = TFAutoModel.from_pretrained(\"indobenchmark/indobert-base-p2\")"
      ],
      "outputs": [],
      "metadata": {
        "id": "lvTsFSp-zY-6",
        "outputId": "67826c50-64b6-4706-f747-a0a285753bdf",
        "colab": {
          "base_uri": "https://localhost:8080/",
          "height": 385,
          "referenced_widgets": [
            "e150d3c3e3174d0b83cd6ca8b5c4da8a",
            "b926ca17de88494da74d2a6d33cda0e8",
            "5f3abbf076b5416d9966a4343b6a16ba",
            "b12ab34167734261ba04b7d7a5e04dd9",
            "74ad82fef92c4f77a90facffb75c9f38",
            "5680f0a021724be5afcc3b80402f3016",
            "d44a6c2dbda94ed7a337276baa12113d",
            "76d11ea19b1a4e29ba7e7520b245df8b",
            "d85e31b31dd6481d8d326b91d745ec10",
            "54f7b8b3c9ee48f0b6a0acfb093b3fc3",
            "fe755beacf0a491e8c125922d03defb5",
            "0d8ac66cc23a49048ecd7c367c81e294",
            "8a4f89b7545b4ca69539258a9813488b",
            "aecbd2f9886c46b09fa7bd3df51bd6b3",
            "cce5e6a1de4b4d0a8d30eaacd476b6f9",
            "db90307107fd41159bf83e88bd427781",
            "d26a5f91e8cc4c81b090b6bb79ed03b3",
            "02dbeb485d5f4c109d429e993ef8c57f",
            "7173a8744e6c448ba960c2366564d11f",
            "388cf56939e048ee888e468cb03980e1",
            "86afd57fedce4e30bd6062a7d037a0aa",
            "abb1735a1a8c4755bf9f268fdb45b947",
            "02dc9b454ea94499841c2bed68cd7908",
            "222700dda78a41be8efdbaa4412fe5ce",
            "f0f49f446e1147a8a3b98625bd8ead99",
            "989b4ab3ea114f0895954da5f2aec3e9",
            "e1b45ea8900d4ce685629564b0c8abef",
            "702fb77897ec4936b1f69da870209021",
            "f0710fe38d864d4f8a30406c053ea651",
            "29194714397c4fab9e52fe24e96c595d",
            "cf3c17b3191d409f9084faee7e18ebd8",
            "bdb25237edde4d24b0966bdf17e9eaac",
            "e23f4dd8b35b432cabaa5a2c44d6cb4f",
            "a84fb3c04e3341ff955ca379066d6348",
            "28f0fffd597c4eff8b207b067329be61",
            "a8506f4f7f3f4087bd348e45c48467d6",
            "735fc3eb9c284b49aa3c3e82bb164600",
            "2204431d650a43f7bce2d3c6b255bf10",
            "147318d215d84c4d85cc5343a79eaaae",
            "cb0526726a3b4c978f6faa44190b282b"
          ]
        }
      }
    },
    {
      "cell_type": "code",
      "execution_count": null,
      "source": [
        "from collections import Counter\n",
        "seq_len = [len(i.split()) for i in df_train[\"narasi\"]]\n",
        "\n",
        "print(Counter(seq_len))"
      ],
      "outputs": [],
      "metadata": {
        "id": "xMJRaj9K1y8d",
        "outputId": "1bb2e8f1-20ac-4a23-cff1-d51f40a2caaa",
        "colab": {
          "base_uri": "https://localhost:8080/",
          "height": 56
        }
      }
    },
    {
      "cell_type": "code",
      "execution_count": null,
      "source": [],
      "outputs": [],
      "metadata": {
        "id": "69IHXHY2i6lj"
      }
    },
    {
      "cell_type": "code",
      "execution_count": null,
      "source": [
        "\"\"\"from sklearn.utils import resample\n",
        "no_claim = df_train[df_train.label == 1]\n",
        "claim = df_train[df_train.label == 0]\n",
        "claim.head()\n",
        "sampled = resample(claim,replace = True,n_samples = len(no_claim),random_state = 0)\n",
        "df_train = pd.concat([no_claim,sampled])\n",
        "df_train.shape\n",
        "sampled\"\"\""
      ],
      "outputs": [],
      "metadata": {
        "id": "d3ENSn6xi0tP",
        "outputId": "ab832b0e-3d33-45d6-982d-666e569b5d71",
        "colab": {
          "base_uri": "https://localhost:8080/",
          "height": 55
        }
      }
    },
    {
      "cell_type": "code",
      "execution_count": null,
      "source": [],
      "outputs": [],
      "metadata": {
        "id": "k0Y9zLlojpiG"
      }
    },
    {
      "cell_type": "code",
      "execution_count": null,
      "source": [
        "from sklearn.model_selection import train_test_split\n",
        "\n",
        "df_train, df_val = train_test_split(df_train,test_size = 0.05 ,random_state = 93)\n",
        "df_train.shape , df_val.shape\n"
      ],
      "outputs": [],
      "metadata": {
        "id": "tZNL8-js05Wk",
        "outputId": "f028309f-02d8-471a-be14-5ff83fc864bd",
        "colab": {
          "base_uri": "https://localhost:8080/",
          "height": 36
        }
      }
    },
    {
      "cell_type": "code",
      "execution_count": null,
      "source": [],
      "outputs": [],
      "metadata": {
        "id": "KgsfLrfz1yQ0"
      }
    },
    {
      "cell_type": "code",
      "execution_count": null,
      "source": [
        "tokens_train = {\n",
        "   \"judul\":tokenizer.batch_encode_plus(\n",
        "        df_train.judul.tolist(),\n",
        "        max_length = 30,\n",
        "        pad_to_max_length = True,\n",
        "        truncation = True\n",
        "   ),\n",
        "      \"narasi\":tokenizer.batch_encode_plus(\n",
        "        df_train.narasi.tolist(),\n",
        "        max_length = 64,\n",
        "        pad_to_max_length = True,\n",
        "        truncation = True\n",
        "   )\n",
        "}\n",
        "\n",
        "tokens_val = {\n",
        "  'judul' : tokenizer.batch_encode_plus(\n",
        "    df_val[\"judul\"].tolist(),\n",
        "    max_length = 30,\n",
        "    pad_to_max_length=True,\n",
        "    truncation=True\n",
        "  ),\n",
        "  'narasi' : tokenizer.batch_encode_plus(\n",
        "    df_val[\"narasi\"].tolist(),\n",
        "    max_length = 64,\n",
        "    pad_to_max_length=True,\n",
        "    truncation=True\n",
        "  )\n",
        "}"
      ],
      "outputs": [],
      "metadata": {
        "id": "J0zeQ-mm1d81",
        "outputId": "d5679c09-d1bd-4230-d157-ff91650ec43a",
        "colab": {
          "base_uri": "https://localhost:8080/",
          "height": 75
        }
      }
    },
    {
      "cell_type": "code",
      "execution_count": null,
      "source": [
        "train_sequence = {\n",
        "    \"judul\":tf.convert_to_tensor(tokens_train[\"judul\"][\"input_ids\"]),\n",
        "    \"narasi\":tf.convert_to_tensor(tokens_train[\"narasi\"][\"input_ids\"])\n",
        "}\n",
        "train_mask = {\n",
        "    \"judul\":tf.convert_to_tensor(tokens_train[\"judul\"][\"attention_mask\"]),\n",
        "    \"narasi\":tf.convert_to_tensor(tokens_train[\"narasi\"][\"attention_mask\"])\n",
        "}\n",
        "y_train = tf.convert_to_tensor(df_train.label.tolist())\n",
        "\n",
        "validation_sequence = {\n",
        "    \"judul\":tf.convert_to_tensor(tokens_val[\"judul\"][\"input_ids\"]),\n",
        "    \"narasi\":tf.convert_to_tensor(tokens_val[\"narasi\"][\"input_ids\"])\n",
        "}\n",
        "validation_mask = {\n",
        "    \"judul\":tf.convert_to_tensor(tokens_val[\"judul\"][\"attention_mask\"]),\n",
        "    \"narasi\":tf.convert_to_tensor(tokens_val[\"narasi\"][\"attention_mask\"])\n",
        "}\n",
        "y_val = tf.convert_to_tensor(df_val.label.tolist())\n",
        "\n",
        "y_train\n",
        "\n"
      ],
      "outputs": [],
      "metadata": {
        "id": "R96ZOpcH3QLO",
        "outputId": "727705e2-3b22-4caf-e59c-550ad03e59ff",
        "colab": {
          "base_uri": "https://localhost:8080/",
          "height": 36
        }
      }
    },
    {
      "cell_type": "code",
      "execution_count": null,
      "source": [
        "train_data = {\n",
        "    \"judul\":tf.squeeze(tf.convert_to_tensor(tokens_train[\"judul\"][\"input_ids\"])),\n",
        "    \"narasi\":tf.squeeze(tf.convert_to_tensor(tokens_train[\"narasi\"][\"input_ids\"])),\n",
        "    \"judulmask\":tf.squeeze(tf.convert_to_tensor(tokens_train[\"judul\"][\"attention_mask\"])),\n",
        "    \"narasimask\":tf.squeeze(tf.convert_to_tensor(tokens_train[\"narasi\"][\"attention_mask\"]))\n",
        "}\n",
        "\n",
        "validation_sequence = {\n",
        "    \"judul\":tf.convert_to_tensor(tokens_val[\"judul\"][\"input_ids\"]),\n",
        "    \"narasi\":tf.convert_to_tensor(tokens_val[\"narasi\"][\"input_ids\"]),\n",
        "    \"judulmask\":tf.convert_to_tensor(tokens_val[\"judul\"][\"attention_mask\"]),\n",
        "    \"narasimask\":tf.convert_to_tensor(tokens_val[\"narasi\"][\"attention_mask\"])\n",
        "}\n",
        "\n",
        "y_val = tf.convert_to_tensor(df_val.label.tolist())\n",
        "\n"
      ],
      "outputs": [],
      "metadata": {
        "id": "Hb2vGAb3-PKs"
      }
    },
    {
      "cell_type": "code",
      "execution_count": null,
      "source": [
        "from tensorflow.keras.utils import to_categorical\n",
        "y_train = to_categorical(y_train,2)\n",
        "y_val = to_categorical(y_val,2)"
      ],
      "outputs": [],
      "metadata": {
        "id": "8gxJ4CpfKasp"
      }
    },
    {
      "cell_type": "code",
      "execution_count": null,
      "source": [
        "dataset = (tf.data.Dataset.from_tensor_slices((train_data,y_train))\n",
        "    .batch(32)\n",
        "    .prefetch(AUTO)\n",
        "           )\n",
        "dataVal = (tf.data.Dataset.from_tensor_slices((validation_sequence,y_val))\n",
        "    .batch(32)\n",
        "    .prefetch(AUTO)\n",
        "    .cache()\n",
        "           )"
      ],
      "outputs": [],
      "metadata": {
        "id": "3-rnPixux5rg"
      }
    },
    {
      "cell_type": "code",
      "execution_count": null,
      "source": [
        "Counter(df_train[\"label\"])\n",
        "Yatoiba = np.log(5592/5680)\n",
        "Yatoiba"
      ],
      "outputs": [],
      "metadata": {
        "id": "jxYv7UVawgRf",
        "outputId": "2e79b858-3165-4625-ddd6-138640eca38a",
        "colab": {
          "base_uri": "https://localhost:8080/",
          "height": 36
        }
      }
    },
    {
      "cell_type": "code",
      "execution_count": null,
      "source": [
        "def makemodel(output_bias = None):\n",
        "\n",
        "\n",
        "  ids1 = tf.keras.layers.Input(shape=(30,),dtype=tf.int32,name=\"judul\")\n",
        "  att1 = tf.keras.layers.Input((30,),dtype = tf.int32,name=\"judulatt\")\n",
        "  output_bias = tf.keras.initializers.Constant(output_bias)\n",
        "  ids2 = tf.keras.layers.Input((64,),dtype=tf.int32,name=\"narasi\")\n",
        "  att2 = tf.keras.layers.Input((64,),dtype=tf.int32,name=\"narasiatt\")\n",
        "    \n",
        "  embed1,ya = IndoBert(ids1,attention_mask=att1)\n",
        "  embed2,toi= IndoBert(ids2,attention_mask=att2)\n",
        "\n",
        "  embed3,iba = IndoBert(ids1,attention_mask=att1)\n",
        "  embed4,yatoiba = IndoBert(ids2,attention_mask=att2)\n",
        "\n",
        "  y = tf.keras.layers.concatenate([iba,yatoiba])\n",
        "  y = tf.keras.layers.Masking(mask_value = 0)(y)\n",
        "  y = tf.keras.layers.Dense(units = 32,activation = \"relu\")(y)\n",
        "\n",
        "  x = tf.keras.layers.concatenate([ya,toi])\n",
        "  x = tf.keras.layers.Masking(mask_value = 0)(x)\n",
        "  x = tf.keras.layers.Dense(16,activation = 'relu')(x)\n",
        "\n",
        "  fin =  tf.keras.layers.concatenate([x,y])\n",
        "\n",
        "  fin2 = tf.keras.layers.GlobalAveragePooling1D()(embed1)\n",
        "  fin3 = tf.keras.layers.GlobalAveragePooling1D()(embed2)\n",
        "  fin4 = tf.keras.layers.GlobalAveragePooling1D()(embed3)\n",
        "  fin4 = tf.keras.layers.Dense(units = 64, activation=\"relu\")(fin4)\n",
        "\n",
        "  fin5 = tf.keras.layers.GlobalAveragePooling1D()(embed4)\n",
        "  fin5 = tf.keras.layers.Dense(units = 32, activation = \"relu\")(fin5)\n",
        "\n",
        "  fin = tf.keras.layers.concatenate([fin,fin2,fin3,fin4,fin5])\n",
        "  fin = tf.keras.layers.Dropout(0.35)(fin)\n",
        "  fin = tf.keras.layers.Dense(units = 34,activation = \"relu\")(fin)\n",
        "  fin = tf.keras.layers.Dropout(0.3)(fin)\n",
        "  fin = tf.keras.layers.Dense(2,activation=\"softmax\")(fin)\n",
        "\n",
        "\n",
        "\n",
        "\n",
        "  final = tf.keras.Model(inputs=[ids1, att1,ids2,att2],outputs=[fin])\n",
        "  METRICS = [\n",
        "        tf.keras.metrics.TruePositives(name='tp'),\n",
        "        tf.keras.metrics.FalsePositives(name='fp'),\n",
        "        tf.keras.metrics.TrueNegatives(name='tn'),\n",
        "        tf.keras.metrics.FalseNegatives(name='fn'), \n",
        "        tf.keras.metrics.CategoricalAccuracy(name='accuracy'),\n",
        "        tf.keras.metrics.Precision(name='precision'),\n",
        "        tf.keras.metrics.Recall(name='recall'),\n",
        "        tf.keras.metrics.AUC(name='auc'),\n",
        "  ] \n",
        "\n",
        "\n",
        "  for layer in final.layers:\n",
        "    layer.trainable = False\n",
        "  for layer in final.layers[-7:]:\n",
        "      layer.trainable = True\n",
        "\n",
        "  optimizer = tf.keras.optimizers.Adam(learning_rate=.001,clipnorm=0.001)\n",
        "  final.compile(loss=tfa.losses.SigmoidFocalCrossEntropy(), optimizer=optimizer,metrics = METRICS)\n",
        "\n",
        "  return final\n",
        "\n",
        "final = makemodel(Yatoiba)"
      ],
      "outputs": [],
      "metadata": {
        "id": "wPhX5xwr6aXm"
      }
    },
    {
      "cell_type": "code",
      "execution_count": null,
      "source": [
        "from tensorflow.keras.utils import plot_model\n",
        "plot_model(final,\"modelarhcitect.png\",show_shapes=True)"
      ],
      "outputs": [],
      "metadata": {
        "id": "G7xzxFX3ZSkw",
        "outputId": "6fc19f90-8c3d-40b6-9547-72e44393e54b",
        "colab": {
          "base_uri": "https://localhost:8080/",
          "height": 825
        }
      }
    },
    {
      "cell_type": "code",
      "execution_count": null,
      "source": [
        "final.summary()"
      ],
      "outputs": [],
      "metadata": {
        "id": "VjcYgMYNOZUx",
        "outputId": "f2fddd43-65c0-4c07-8c12-df169f02c634",
        "colab": {
          "base_uri": "https://localhost:8080/",
          "height": 1000
        }
      }
    },
    {
      "cell_type": "code",
      "execution_count": null,
      "source": [
        "from tensorflow.keras.callbacks import EarlyStopping\n",
        "EarlyStop = EarlyStopping(monitor=\"val_loss\",patience = 5)"
      ],
      "outputs": [],
      "metadata": {
        "id": "FWI-nug73AJG"
      }
    },
    {
      "cell_type": "code",
      "execution_count": null,
      "source": [
        "import math\n",
        "def create_learning_rate_scheduler(max_learn_rate=1e-2,\n",
        "                                   end_learn_rate=1e-6,\n",
        "                                   warmup_epoch_count=3,\n",
        "                                   total_epoch_count=15):\n",
        "\n",
        "    def lr_scheduler(epoch):\n",
        "        if epoch < warmup_epoch_count:\n",
        "            res = max_learn_rate\n",
        "        else:\n",
        "            res = max_learn_rate*math.exp(math.log(end_learn_rate/max_learn_rate)*(epoch-warmup_epoch_count+1)/(total_epoch_count-warmup_epoch_count+1))\n",
        "        return float(res)\n",
        "    learning_rate_scheduler = tf.keras.callbacks.LearningRateScheduler(lr_scheduler, verbose=1)\n",
        "\n",
        "    return learning_rate_scheduler"
      ],
      "outputs": [],
      "metadata": {
        "id": "2KthyyboaQ0P"
      }
    },
    {
      "cell_type": "code",
      "execution_count": null,
      "source": [
        "history3=final.fit(x = dataset,epochs = 15,validation_data=dataVal,callbacks = [EarlyStop, create_learning_rate_scheduler(max_learn_rate=1e-3,\n",
        "                                                    end_learn_rate=1e-6,\n",
        "                                                    warmup_epoch_count=3,\n",
        "                                                    total_epoch_count=15),EarlyStop])"
      ],
      "outputs": [],
      "metadata": {
        "id": "WO3tjDhjaPAR",
        "outputId": "448c0a49-a552-4fe5-b93d-aea7eb3950ae",
        "colab": {
          "base_uri": "https://localhost:8080/",
          "height": 488
        }
      }
    },
    {
      "cell_type": "code",
      "execution_count": null,
      "source": [
        "test_seq = {\n",
        "  'judul' : tokenizer.batch_encode_plus(\n",
        "    dataTest[\"judul\"].tolist(),\n",
        "    max_length = 30,\n",
        "    pad_to_max_length=True,\n",
        "    truncation=True\n",
        "  ),\n",
        "  'narasi' : tokenizer.batch_encode_plus(\n",
        "    dataTest[\"narasi\"].tolist(),\n",
        "    max_length = 64,\n",
        "    pad_to_max_length=True,\n",
        "    truncation=True\n",
        "  )\n",
        "}\n",
        "\n",
        "test_sequence = {\n",
        "    \"judul\":tf.convert_to_tensor(test_seq[\"judul\"][\"input_ids\"]),\n",
        "    \"narasi\":tf.convert_to_tensor(test_seq[\"narasi\"][\"input_ids\"]),\n",
        "    \"judulmask\":tf.convert_to_tensor(test_seq[\"judul\"][\"attention_mask\"]),\n",
        "    \"narasimask\":tf.convert_to_tensor(test_seq[\"narasi\"][\"attention_mask\"])\n",
        "}\n",
        "\n"
      ],
      "outputs": [],
      "metadata": {
        "id": "23VOhwBrg7iM",
        "outputId": "b00e46fd-59a2-44d2-b7df-57d9ef14b90f",
        "colab": {
          "base_uri": "https://localhost:8080/",
          "height": 75
        }
      }
    },
    {
      "cell_type": "code",
      "execution_count": null,
      "source": [
        "y_test = dataTest[\"label\"]"
      ],
      "outputs": [],
      "metadata": {
        "id": "hiJhnAqcmCRH"
      }
    },
    {
      "cell_type": "code",
      "execution_count": null,
      "source": [
        "y_pred = np.argmax(final.predict(test_sequence),axis = 1)\n",
        "y_pred[:5]"
      ],
      "outputs": [],
      "metadata": {
        "id": "tQTkO1PzmmDH",
        "outputId": "fec98387-b7e0-4296-866d-8682234baf21",
        "colab": {
          "base_uri": "https://localhost:8080/",
          "height": 36
        }
      }
    },
    {
      "cell_type": "code",
      "execution_count": null,
      "source": [
        "print(classification_report(y_test,y_pred))"
      ],
      "outputs": [],
      "metadata": {
        "id": "8qs4ij1aicSC",
        "outputId": "9091ccba-db97-4777-fa83-d9c368fedc3e",
        "colab": {
          "base_uri": "https://localhost:8080/",
          "height": 186
        }
      }
    },
    {
      "cell_type": "code",
      "execution_count": null,
      "source": [
        "from sklearn.metrics import f1_score\n",
        "from sklearn.metrics import classification_report\n",
        "\n",
        "f1_score(y_true = y_test , y_pred = y_pred,average='micro')"
      ],
      "outputs": [],
      "metadata": {
        "id": "vVZecwwUnB8G",
        "outputId": "3264b450-e565-4d58-a26f-bd8073c748f9",
        "colab": {
          "base_uri": "https://localhost:8080/",
          "height": 36
        }
      }
    }
  ]
}